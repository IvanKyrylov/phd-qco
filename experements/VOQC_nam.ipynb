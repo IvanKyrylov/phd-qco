{
 "cells": [
  {
   "cell_type": "code",
   "id": "bde96eb3",
   "metadata": {},
   "source": [
    "from pyvoqc.voqc import VOQCCircuit, get_library_handle\n",
    "import os\n",
    "from os.path import join, isfile\n",
    "\n",
    "handle = get_library_handle()\n",
    "\n",
    "\n",
    "def VOQC_optimize_nam(fn):\n",
    "    circ = VOQCCircuit(handle, fn)\n",
    "    circ.optimize_nam()\n",
    "    print(circ.count_gates())\n",
    "    return circ.total_gate_count()\n",
    "\n",
    "\n",
    "if __name__ == \"__main__\":\n",
    "    qasm_path = \"../circuits/nam/\"\n",
    "\n",
    "    qasm_fns = [\n",
    "        fn\n",
    "        for fn in os.listdir(qasm_path)\n",
    "        if isfile(join(qasm_path, fn)) and fn[-4:] == \"qasm\"\n",
    "    ]\n",
    "\n",
    "    for fn in qasm_fns:\n",
    "        r = VOQC_optimize_nam(qasm_path + fn)\n",
    "        print(f\"Optimization results of VOQC for {fn} on Nam's gate set\")\n",
    "        print(f\"{r} gates after pass 'optimize_nam'\")"
   ],
   "outputs": [],
   "execution_count": null
  }
 ],
 "metadata": {
  "kernelspec": {
   "display_name": ".venv",
   "language": "python",
   "name": "python3"
  },
  "language_info": {
   "name": "python",
   "version": "3.13.5"
  }
 },
 "nbformat": 4,
 "nbformat_minor": 5
}
